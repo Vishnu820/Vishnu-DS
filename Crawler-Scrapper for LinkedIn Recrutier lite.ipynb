{
 "cells": [
  {
   "cell_type": "code",
   "execution_count": 1,
   "id": "997e9ab9",
   "metadata": {},
   "outputs": [],
   "source": [
    "from selenium.webdriver.common.keys import Keys\n",
    "from selenium import webdriver\n",
    "from selenium.webdriver.support.ui import WebDriverWait\n",
    "import requests, time, random\n",
    "from time import sleep\n",
    "import pandas as pd\n",
    "from selenium.webdriver.common.by import By\n",
    "import bs4\n",
    "from bs4 import BeautifulSoup"
   ]
  },
  {
   "cell_type": "markdown",
   "id": "89d93c7d",
   "metadata": {},
   "source": [
    "## Functions"
   ]
  },
  {
   "cell_type": "code",
   "execution_count": 2,
   "id": "0e688f1e",
   "metadata": {},
   "outputs": [],
   "source": [
    "def edu_scrapper(soup):\n",
    "    edu_div = soup.find_all('ul', {'class': 'background-section__list'})\n",
    "    edu_info = []\n",
    "    \n",
    "    url_dts = edu_div[0].find_all('dt')\n",
    "    url_dds = edu_div[0].find_all('dd')\n",
    "\n",
    "    colo = []\n",
    "    for i in range(len(url_dts)):\n",
    "        colo.append(url_dts[i].get_text())\n",
    "\n",
    "    try: \n",
    "        for div in url_dds.find_all(\"dd\", {'class':'background-entity__summary-definition'}): \n",
    "            div.decompose()\n",
    "\n",
    "    except:\n",
    "        o=0\n",
    "\n",
    "    for i in range(len(colo)):\n",
    "            if(colo[i]==\"\\n          School name\\n        \"):\n",
    "                try:\n",
    "                    p = url_dds[i].find_all('a')[0].get_text()\n",
    "                    edu_info.append({'School_name':p})\n",
    "                except:\n",
    "                    p = url_dds[i].get_text()\n",
    "                    edu_info.append({'School_name':p})\n",
    "\n",
    "            elif(colo[i]==\"\\n                Degree name\\n              \"):\n",
    "                p = url_dds[i].get_text()\n",
    "                edu_info.append({'Degree_name':p})\n",
    "\n",
    "            elif(colo[i]==\"\\n        Dates attended or expected graduation\\n      \"):\n",
    "                p = url_dds[i].get_text()\n",
    "                edu_info.append({'Duration':p})\n",
    "\n",
    "            elif(colo[i]==\"\\n                Field of study\\n              \"):\n",
    "                p = url_dds[i].get_text()\n",
    "                edu_info.append({'Field':p})\n",
    "                \n",
    "    return(edu_info)"
   ]
  },
  {
   "cell_type": "markdown",
   "id": "f39f3d73",
   "metadata": {},
   "source": [
    "# Test enviorment of chrome"
   ]
  },
  {
   "cell_type": "code",
   "execution_count": 4,
   "id": "7015752b",
   "metadata": {
    "scrolled": true
   },
   "outputs": [
    {
     "name": "stderr",
     "output_type": "stream",
     "text": [
      "C:\\Users\\vishn\\AppData\\Local\\Temp\\ipykernel_18388\\9910984.py:3: DeprecationWarning: executable_path has been deprecated, please pass in a Service object\n",
      "  browser = webdriver.Chrome('driverpath')\n"
     ]
    }
   ],
   "source": [
    "driverpath = r\"C:\\Users\\Prayagraj\\Downloads\\chromedriver_win32\\chromedriver.exe\"\n",
    "\n",
    "browser = webdriver.Chrome('driverpath')\n",
    "browser.get('https://www.linkedin.com/login')\n",
    "\n",
    "username = 'farzi.kaam.mail@gmail.com'\n",
    "password = 'ASu3zs+%aE+aVEx'\n",
    "elementID = browser.find_element('id','username')\n",
    "elementID.send_keys(username)\n",
    "\n",
    "elementID = browser.find_element('id','password')\n",
    "elementID.send_keys(password)\n",
    "\n",
    "elementID.submit()"
   ]
  },
  {
   "cell_type": "markdown",
   "id": "dc3e108b",
   "metadata": {},
   "source": [
    "# The filter link"
   ]
  },
  {
   "cell_type": "code",
   "execution_count": 5,
   "id": "f81a6f33",
   "metadata": {},
   "outputs": [],
   "source": [
    "browser.get(\"https://www.linkedin.com/talent/search/profile/AEMAAABfyXIB3YzTZuO-AgwP11K8Vs4RaWGFJzg?searchContextId=79a09199-b4e6-41ba-a9b9-f8b0d909fb3a&searchHistoryId=12592820043&searchRequestId=a186bd08-a665-4494-8569-f1f6ccf4fd07&start=0&uiOrigin=ADVANCED_SEARCH\")\n",
    "time.sleep(5)"
   ]
  },
  {
   "cell_type": "code",
   "execution_count": 6,
   "id": "e337fb21",
   "metadata": {},
   "outputs": [],
   "source": [
    "#the three coloums we will have in database\n",
    "url = []\n",
    "exp = []\n",
    "edu = []"
   ]
  },
  {
   "cell_type": "markdown",
   "id": "801ff1a2",
   "metadata": {},
   "source": [
    "# Main function to start scrapping"
   ]
  },
  {
   "cell_type": "code",
   "execution_count": 7,
   "id": "407891a3",
   "metadata": {},
   "outputs": [
    {
     "ename": "KeyboardInterrupt",
     "evalue": "",
     "output_type": "error",
     "traceback": [
      "\u001b[1;31m---------------------------------------------------------------------------\u001b[0m",
      "\u001b[1;31mKeyboardInterrupt\u001b[0m                         Traceback (most recent call last)",
      "Cell \u001b[1;32mIn[7], line 2\u001b[0m\n\u001b[0;32m      1\u001b[0m \u001b[38;5;28;01mfor\u001b[39;00m y \u001b[38;5;129;01min\u001b[39;00m \u001b[38;5;28mrange\u001b[39m(\u001b[38;5;241m1\u001b[39m,\u001b[38;5;241m100\u001b[39m):\n\u001b[1;32m----> 2\u001b[0m     time\u001b[38;5;241m.\u001b[39msleep(\u001b[38;5;241m4\u001b[39m)\n\u001b[0;32m      3\u001b[0m     src \u001b[38;5;241m=\u001b[39m browser\u001b[38;5;241m.\u001b[39mpage_source\n\u001b[0;32m      4\u001b[0m     soup \u001b[38;5;241m=\u001b[39m BeautifulSoup(src, \u001b[38;5;124m'\u001b[39m\u001b[38;5;124mlxml\u001b[39m\u001b[38;5;124m'\u001b[39m)\n",
      "\u001b[1;31mKeyboardInterrupt\u001b[0m: "
     ]
    }
   ],
   "source": [
    "for y in range(1,100):\n",
    "    time.sleep(4)\n",
    "    src = browser.page_source\n",
    "    soup = BeautifulSoup(src, 'lxml')\n",
    "    \n",
    "#getting url\n",
    "    \n",
    "    try:\n",
    "        button_pp = browser.find_element(By.CSS_SELECTOR, \"#topcard-public-profile-hoverable-btn\").click()\n",
    "        url_div = soup.find_all('a', {'class': 'topcard-condensed__public-profile-hovercard t-14'})\n",
    "        url.append(url_div[0]['href'])\n",
    "    except:\n",
    "        url.append(\"no url\")\n",
    "    \n",
    "#clicking show more button for full experinece data\n",
    "    \n",
    "    try: \n",
    "        button_showmore = browser.find_element(By.XPATH, \"//button[@aria-expanded='false']//li-icon[@type='chevron-down-icon']\").click()\n",
    "        \n",
    "    except:\n",
    "        o=0\n",
    "\n",
    "#scrapping expereicne\n",
    "\n",
    "    try:\n",
    "        src = browser.page_source\n",
    "        soup = BeautifulSoup(src, 'lxml')\n",
    "        #group exp details code\n",
    "        exp_div = soup.find_all('ul', {'class': 'expandable-list-profile-core__list artdeco-list'})\n",
    "        exp_info = []\n",
    "\n",
    "        try:\n",
    "            url_grou = exp_div[0].find_all('span',{\"class\": \"grouped-position-entity__right-content\"})\n",
    "            company_name = url_grou[0].find(\"strong\",{\"class\":\"t-16 grouped-position-entity__company-name\"}).get_text()\n",
    "\n",
    "            l = len(url_grou)\n",
    "\n",
    "            for k in range(1,l):\n",
    "                url_dts = url_grou[k].find_all('dt',{\"class\":\"grouped-position-entity__summary-term\"})\n",
    "                url_dds = url_grou[k].find_all('dd')\n",
    "                colo = []\n",
    "\n",
    "                for i in range(len(url_dts)):\n",
    "                    colo.append(url_dts[i].get_text())\n",
    "\n",
    "                for i in range(len(colo)):\n",
    "\n",
    "                    if(colo[i]==\"\\n              Position title\\n            \"):\n",
    "                        p=url_dds[i].find_all('a')[0].get_text()\n",
    "                        exp_info.append({'Position_title':p})\n",
    "                        exp_info.append({'Company name':company_name})\n",
    "\n",
    "                    elif(colo[i]==\"\\n                  Dates employed and Duration\\n                \"):\n",
    "                        p = url_dds[i].find_all('time')[0].get_text()\n",
    "                        exp_info.append({'Dates employed and Duration':p})\n",
    "\n",
    "                    elif(colo[i]==\"\\n                Position location\\n              \"):\n",
    "                        p = url_dds[i].get_text()\n",
    "                        exp_info.append({'Position location':p})\n",
    "\n",
    "        except:\n",
    "            o=0\n",
    "\n",
    "        try: \n",
    "            for div in soup.find_all(\"div\", {'class':'grouped-position-entity__company-data-container'}): \n",
    "                div.decompose()\n",
    "            for div in soup.find_all(\"div\", {'class':'grouped-position-entity__metadata-container'}): \n",
    "                div.decompose()\n",
    "        except:\n",
    "            o=0\n",
    "            \n",
    "        exp_div = soup.find_all('ul', {'class': 'expandable-list-profile-core__list artdeco-list'})\n",
    "        url_dts = exp_div[0].find_all('dt',{\"class\":\"background-entity__summary-term position-item__summary-term\"})\n",
    "        url_dds = exp_div[0].find_all('dd')\n",
    "\n",
    "        colo = []\n",
    "        for i in range(len(url_dts)):\n",
    "            colo.append(url_dts[i].get_text())\n",
    "\n",
    "        for i in range(len(colo)):\n",
    "            if(colo[i]==\"\\n        Position title\\n      \"):\n",
    "                p=url_dds[i].find_all('a')[0].get_text()\n",
    "                exp_info.append({'Position_title':p})\n",
    "\n",
    "            elif(colo[i]==\"\\n          Company name\\n        \"):\n",
    "                try:\n",
    "                    p = url_dds[i].find_all('a')[0].get_text()\n",
    "                    exp_info.append({'Company name':p})\n",
    "                except:\n",
    "                    p = url_dds[i].get_text()\n",
    "                    exp_info.append({'Company name':p})\n",
    "\n",
    "            elif(colo[i]==\"\\n            Dates employed and Duration\\n          \"):\n",
    "                p = url_dds[i].find_all('time')[0].get_text()\n",
    "                exp_info.append({'Dates employed and Duration':p})\n",
    "\n",
    "            elif(colo[i]==\"\\n          Position location\\n        \"):\n",
    "                p = url_dds[i].get_text()\n",
    "                exp_info.append({'Position location':p})\n",
    "\n",
    "        exp.append(exp_info)\n",
    "\n",
    "    except:\n",
    "        exp.append(\"no_Exp\")\n",
    "\n",
    "#clicking show more button for full education data\n",
    "    \n",
    "    try: \n",
    "        button_showmore = browser.find_element(By.XPATH, \"//button[@aria-expanded='false']//li-icon[@type='chevron-down-icon']\").click()\n",
    "        \n",
    "    except:\n",
    "        o=0\n",
    "\n",
    "#scrapping education\n",
    "\n",
    "    try:\n",
    "        edu_temp = edu_scrapper(soup)\n",
    "        edu.append(edu_temp)\n",
    "\n",
    "    except:\n",
    "        edu.append(\"no_edu\")\n",
    "    \n",
    "#moving to next profile\n",
    "\n",
    "    try:\n",
    "        prof = \"a[title='Go forward to profile \" + str(y+1) + \"']\"\n",
    "        button_next = browser.find_element(By.CSS_SELECTOR, prof).click()\n",
    "\n",
    "    except:\n",
    "        button_next = browser.find_element(By.CSS_SELECTOR, \"a[title='Go to next page']\").click()\n",
    "        y=y+1"
   ]
  },
  {
   "cell_type": "code",
   "execution_count": 8,
   "id": "5269bc07",
   "metadata": {
    "scrolled": true
   },
   "outputs": [],
   "source": [
    "df_edu = pd.DataFrame(edu)\n",
    "df_exp_url = pd.DataFrame(exp,url)"
   ]
  },
  {
   "cell_type": "markdown",
   "id": "b5549031",
   "metadata": {},
   "source": [
    "# Saving the files to csv"
   ]
  },
  {
   "cell_type": "code",
   "execution_count": 9,
   "id": "93532a4c",
   "metadata": {},
   "outputs": [],
   "source": [
    "branch = \"all \" #enter the branch\n",
    "yoe = '27-29 ' #enter year of experience\n",
    "name = branch+yoe+\"test\"+\" edu\"+\".csv\"\n",
    "df_edu.to_csv(name)\n",
    "name = branch+yoe+\"test\"+\" exp_url\"+\".csv\"\n",
    "df_exp_url.to_csv(name)"
   ]
  },
  {
   "cell_type": "code",
   "execution_count": null,
   "id": "76dd4b9d",
   "metadata": {},
   "outputs": [],
   "source": []
  }
 ],
 "metadata": {
  "kernelspec": {
   "display_name": "Python 3 (ipykernel)",
   "language": "python",
   "name": "python3"
  },
  "language_info": {
   "codemirror_mode": {
    "name": "ipython",
    "version": 3
   },
   "file_extension": ".py",
   "mimetype": "text/x-python",
   "name": "python",
   "nbconvert_exporter": "python",
   "pygments_lexer": "ipython3",
   "version": "3.11.2"
  }
 },
 "nbformat": 4,
 "nbformat_minor": 5
}
