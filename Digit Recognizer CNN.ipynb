{
 "cells": [
  {
   "cell_type": "code",
   "execution_count": null,
   "id": "a4247462",
   "metadata": {},
   "outputs": [],
   "source": [
    "!pip install tensorflow"
   ]
  },
  {
   "cell_type": "code",
   "execution_count": null,
   "id": "991e245f",
   "metadata": {},
   "outputs": [],
   "source": [
    "import numpy as np\n",
    "import pandas as pd\n",
    "import matplotlib.pyplot as plt\n",
    "import scipy.sparse as sparse"
   ]
  },
  {
   "cell_type": "code",
   "execution_count": null,
   "id": "68c056ff",
   "metadata": {},
   "outputs": [],
   "source": [
    "from sklearn.datasets import fetch_openml"
   ]
  },
  {
   "cell_type": "code",
   "execution_count": null,
   "id": "94cde346",
   "metadata": {},
   "outputs": [],
   "source": [
    "mnist = fetch_openml('mnist_784', version = 1)"
   ]
  },
  {
   "cell_type": "code",
   "execution_count": null,
   "id": "01c78e34",
   "metadata": {},
   "outputs": [],
   "source": [
    "X, Y = mnist[\"data\"]/255, mnist[\"target\"]\n",
    "\n",
    "x_train, x_test, y_train, y_test = X[:60000], X[60000:], Y[:60000].astype(int), Y[60000:].astype(int)"
   ]
  },
  {
   "cell_type": "code",
   "execution_count": null,
   "id": "6676c6ce",
   "metadata": {},
   "outputs": [],
   "source": [
    "y_train[0]"
   ]
  },
  {
   "cell_type": "code",
   "execution_count": null,
   "id": "c7cde88f",
   "metadata": {},
   "outputs": [],
   "source": [
    "x_train.shape"
   ]
  },
  {
   "cell_type": "code",
   "execution_count": null,
   "id": "530651f1",
   "metadata": {},
   "outputs": [],
   "source": [
    "def augment_feature_vector(X):\n",
    "    return np.hstack((np.ones([len(X), 1]), X))"
   ]
  },
  {
   "cell_type": "markdown",
   "id": "7c48b1ac",
   "metadata": {},
   "source": [
    "# Implementing Softmax regression from scratch using numpy "
   ]
  },
  {
   "cell_type": "code",
   "execution_count": null,
   "id": "34446763",
   "metadata": {},
   "outputs": [],
   "source": [
    "#defining the softmax function along with the parameters\n",
    "def vectorized_compute_probabilities(X, theta):\n",
    "    \n",
    "    theta_XT = np.matmul(theta, np.transpose(X))\n",
    "    #taking a columnwise max:\n",
    "    c = np.amax(theta_XT, axis = 0)\n",
    "    #elementwise exponentiation of theta_XT:\n",
    "    exp_matrix = np.exp(theta_XT - c)\n",
    "    #computing the normalization factors for each column of H:\n",
    "    sum_vector = np.sum(exp_matrix, axis = 0)\n",
    "    \n",
    "    #broadcasting!\n",
    "    return exp_matrix/sum_vector\n",
    "    "
   ]
  },
  {
   "cell_type": "code",
   "execution_count": null,
   "id": "40ebb4d1",
   "metadata": {},
   "outputs": [],
   "source": [
    "def gradient_descent_iteration(X, Y, theta, alpha, lambda_factor):\n",
    "    \n",
    "    n = len(Y)\n",
    "    k = theta.shape[0]\n",
    "    data = [1]*n\n",
    "    \n",
    "    H = vectorized_compute_probabilities(X, theta)\n",
    "    #more efficient way to implement large sparse arrays:\n",
    "    M = sparse.coo_matrix((data, (Y, range(n))), shape=(k,n)).toarray()\n",
    "    \n",
    "    first_term = np.matmul(M-H, X)*(-1/n)\n",
    "    second_term = lambda_factor * theta\n",
    "\n",
    "    return theta - alpha * (first_term + second_term)"
   ]
  },
  {
   "cell_type": "code",
   "execution_count": null,
   "id": "5f56c831",
   "metadata": {},
   "outputs": [],
   "source": [
    "def predict(X, theta):\n",
    "\n",
    "    X = augment_feature_vector(X)\n",
    "    probabilities = vectorized_compute_probabilities(X, theta)\n",
    "    return np.argmax(probabilities, axis = 0)"
   ]
  },
  {
   "cell_type": "code",
   "execution_count": null,
   "id": "6e2f3590",
   "metadata": {},
   "outputs": [],
   "source": [
    "def compute_accuracy(X, Y, theta):\n",
    "    predictions = predict(X, theta)\n",
    "    return np.mean(predictions == Y)"
   ]
  },
  {
   "cell_type": "code",
   "execution_count": null,
   "id": "2f11830c",
   "metadata": {},
   "outputs": [],
   "source": [
    "def softmax_regression(X, Y, alpha, lambda_factor, k, num_iterations):   \n",
    "    \n",
    "    X = augment_feature_vector(X)\n",
    "    theta = np.zeros([k, X.shape[1]])\n",
    "    for i in range(num_iterations):\n",
    "        theta = gradient_descent_iteration(X, Y, theta, alpha, lambda_factor)\n",
    "    \n",
    "    return theta"
   ]
  },
  {
   "cell_type": "code",
   "execution_count": null,
   "id": "6c4374e9",
   "metadata": {},
   "outputs": [],
   "source": [
    "theta_final = softmax_regression(x_train, y_train, alpha = .3, lambda_factor = 1.0e-4, k = 10, num_iterations = 1000)"
   ]
  },
  {
   "cell_type": "code",
   "execution_count": null,
   "id": "c6c8f8b7",
   "metadata": {},
   "outputs": [],
   "source": [
    "compute_accuracy(x_test, y_test, theta_final)"
   ]
  },
  {
   "cell_type": "markdown",
   "id": "d48b1e31",
   "metadata": {},
   "source": [
    "# Implementing a CNN based model from scratch"
   ]
  },
  {
   "cell_type": "code",
   "execution_count": null,
   "id": "85cd0b41",
   "metadata": {},
   "outputs": [],
   "source": [
    "import tensorflow as tf\n",
    "from tensorflow.keras import layers,models\n",
    "from tensorflow import keras"
   ]
  },
  {
   "cell_type": "code",
   "execution_count": null,
   "id": "499585a9",
   "metadata": {},
   "outputs": [],
   "source": [
    "(X_train, y_train) , (X_test, y_test) = keras.datasets.mnist.load_data()"
   ]
  },
  {
   "cell_type": "code",
   "execution_count": null,
   "id": "38ca7a5b",
   "metadata": {},
   "outputs": [],
   "source": [
    "X_train=X_train/255\n",
    "X_test=X_test/255"
   ]
  },
  {
   "cell_type": "code",
   "execution_count": null,
   "id": "9cff136c",
   "metadata": {},
   "outputs": [],
   "source": [
    "X_train.reshape(-1,28,28,1)"
   ]
  },
  {
   "cell_type": "code",
   "execution_count": null,
   "id": "6cb2c951",
   "metadata": {},
   "outputs": [],
   "source": [
    "X_test.reshape(-1,28,28,1)"
   ]
  },
  {
   "cell_type": "code",
   "execution_count": null,
   "id": "88e7e46f",
   "metadata": {},
   "outputs": [],
   "source": [
    "convolutional_neural_network = models.Sequential([\n",
    "    layers.Conv2D(filters=25, kernel_size=(3, 3), activation='relu', input_shape=(28,28,1)), \n",
    "    layers.MaxPooling2D((2, 2)),\n",
    "    layers.Conv2D(filters=64, kernel_size=(3, 3), activation='relu'),\n",
    "    layers.MaxPooling2D((2, 2)),\n",
    "    layers.Conv2D(filters=64, kernel_size=(3, 3), activation='relu'),\n",
    "    layers.MaxPooling2D((2, 2)),\n",
    "    layers.Flatten(),\n",
    "    layers.Dense(64, activation='relu'),\n",
    "    layers.Dense(10, activation='softmax')\n",
    "])"
   ]
  },
  {
   "cell_type": "code",
   "execution_count": null,
   "id": "baf4b1d5",
   "metadata": {},
   "outputs": [],
   "source": [
    "convolutional_neural_network.compile(optimizer='adam', loss='sparse_categorical_crossentropy', metrics=['accuracy'])\n",
    "convolutional_neural_network.fit(X_train, y_train, epochs=30)"
   ]
  },
  {
   "cell_type": "code",
   "execution_count": null,
   "id": "369a9238",
   "metadata": {},
   "outputs": [],
   "source": [
    "convolutional_neural_network.evaluate(X_test, y_test)"
   ]
  }
 ],
 "metadata": {
  "kernelspec": {
   "display_name": "Python 3 (ipykernel)",
   "language": "python",
   "name": "python3"
  },
  "language_info": {
   "codemirror_mode": {
    "name": "ipython",
    "version": 3
   },
   "file_extension": ".py",
   "mimetype": "text/x-python",
   "name": "python",
   "nbconvert_exporter": "python",
   "pygments_lexer": "ipython3",
   "version": "3.11.2"
  }
 },
 "nbformat": 4,
 "nbformat_minor": 5
}
